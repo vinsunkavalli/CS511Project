{
 "cells": [
  {
   "cell_type": "code",
   "execution_count": 1,
   "metadata": {
    "pycharm": {
     "name": "#%%\n"
    },
    "tags": []
   },
   "outputs": [],
   "source": [
    "import sys, os\n",
    "sys.path.insert(0, os.path.abspath(\"../..\"))\n",
    "%load_ext ElasticNotebook"
   ]
  },
  {
   "cell_type": "code",
   "execution_count": 2,
   "metadata": {
    "collapsed": false,
    "jupyter": {
     "outputs_hidden": false
    },
    "pycharm": {
     "name": "#%%\n"
    }
   },
   "outputs": [
    {
     "name": "stdout",
     "output_type": "stream",
     "text": [
      "[[<elastic.core.graph.variable_snapshot.VariableSnapshot object at 0x16848c220>, <elastic.core.graph.variable_snapshot.VariableSnapshot object at 0x104f02be0>, <elastic.core.graph.variable_snapshot.VariableSnapshot object at 0x104f02b20>], [<elastic.core.graph.variable_snapshot.VariableSnapshot object at 0x16848c220>, <elastic.core.graph.variable_snapshot.VariableSnapshot object at 0x104f02be0>, <elastic.core.graph.variable_snapshot.VariableSnapshot object at 0x104f02b20>], [<elastic.core.graph.variable_snapshot.VariableSnapshot object at 0x104f02a30>, <elastic.core.graph.variable_snapshot.VariableSnapshot object at 0x104f02670>], [<elastic.core.graph.variable_snapshot.VariableSnapshot object at 0x104f02a30>, <elastic.core.graph.variable_snapshot.VariableSnapshot object at 0x104f02670>], [<elastic.core.graph.variable_snapshot.VariableSnapshot object at 0x104f025b0>], [<elastic.core.graph.variable_snapshot.VariableSnapshot object at 0x104f02d90>], [<elastic.core.graph.variable_snapshot.VariableSnapshot object at 0x16848c0a0>], [<elastic.core.graph.variable_snapshot.VariableSnapshot object at 0x104f02be0>]]\n",
      "trying: ['b', 'a', 'x']\n",
      "me:  4\n",
      "me:  1\n",
      "me:  1\n",
      "trying: ['b', 'a', 'x']\n",
      "me:  4\n",
      "me:  1\n",
      "me:  1\n",
      "trying: ['y', 'z']\n",
      "me:  1\n",
      "me:  1\n",
      "trying: ['y', 'z']\n",
      "me:  1\n",
      "me:  1\n",
      "trying: ['random']\n",
      "me:  2\n",
      "trying: ['np']\n",
      "me:  2\n",
      "trying: ['func']\n",
      "me:  4\n",
      "trying: ['a']\n",
      "me:  1\n",
      "Declaring variable a\n",
      "Declaring variable x\n",
      "Declaring variable a\n",
      "Declaring variable x\n",
      "Declaring variable y\n",
      "Declaring variable z\n",
      "Declaring variable y\n",
      "Declaring variable z\n",
      "Declaring variable a\n",
      "Declaring variable random\n",
      "Declaring variable np\n",
      "Declaring variable b\n",
      "Declaring variable b\n",
      "Declaring variable func\n"
     ]
    }
   ],
   "source": [
    "# Load the checkpointed notebook here\n",
    "%LoadCheckpoint checkpoints/simple.pickle"
   ]
  },
  {
   "cell_type": "code",
   "execution_count": 3,
   "metadata": {
    "collapsed": false,
    "jupyter": {
     "outputs_hidden": false
    },
    "pycharm": {
     "name": "#%%\n"
    }
   },
   "outputs": [
    {
     "name": "stdout",
     "output_type": "stream",
     "text": [
      "a\t b\t func\t np\t os\t random\t sys\t x\t y\t \n",
      "z\t \n"
     ]
    }
   ],
   "source": [
    "# See all variables have restored.\n",
    "%who\n"
   ]
  },
  {
   "cell_type": "code",
   "execution_count": null,
   "metadata": {
    "collapsed": false,
    "jupyter": {
     "outputs_hidden": false
    },
    "pycharm": {
     "name": "#%%\n"
    }
   },
   "outputs": [],
   "source": []
  }
 ],
 "metadata": {
  "kernelspec": {
   "display_name": "Python 3 (ipykernel)",
   "language": "python",
   "name": "python3"
  },
  "language_info": {
   "codemirror_mode": {
    "name": "ipython",
    "version": 3
   },
   "file_extension": ".py",
   "mimetype": "text/x-python",
   "name": "python",
   "nbconvert_exporter": "python",
   "pygments_lexer": "ipython3",
   "version": "3.9.6"
  }
 },
 "nbformat": 4,
 "nbformat_minor": 4
}
