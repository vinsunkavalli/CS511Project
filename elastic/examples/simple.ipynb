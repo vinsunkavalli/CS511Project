{
 "cells": [
  {
   "cell_type": "code",
   "execution_count": 1,
   "metadata": {
    "pycharm": {
     "name": "#%%\n"
    },
    "tags": []
   },
   "outputs": [],
   "source": [
    "import sys, os, pickle\n",
    "sys.path.insert(0, os.path.abspath(\"../..\"))\n",
    "%load_ext ElasticNotebook"
   ]
  },
  {
   "cell_type": "code",
   "execution_count": 2,
   "metadata": {
    "collapsed": false,
    "jupyter": {
     "outputs_hidden": false
    },
    "pycharm": {
     "name": "#%%\n"
    },
    "tags": []
   },
   "outputs": [
    {
     "name": "stdout",
     "output_type": "stream",
     "text": [
      "self.shell.user_ns {'__name__': '__main__', '__doc__': 'Automatically created module for IPython interactive environment', '__package__': None, '__loader__': None, '__spec__': None, '__builtin__': <module 'builtins' (built-in)>, '__builtins__': <module 'builtins' (built-in)>, '_ih': ['', 'import sys, os, pickle\\nsys.path.insert(0, os.path.abspath(\"../..\"))\\nget_ipython().run_line_magic(\\'load_ext\\', \\'ElasticNotebook\\')', \"get_ipython().run_cell_magic('RecordEvent', '', 'x = 1\\\\n')\"], '_oh': {}, '_dh': [PosixPath('/Users/marioaranda/Documents/GitHub/CS511Project/elastic/examples'), PosixPath('/Users/marioaranda/Documents/GitHub/CS511Project/elastic/examples')], 'In': ['', 'import sys, os, pickle\\nsys.path.insert(0, os.path.abspath(\"../..\"))\\nget_ipython().run_line_magic(\\'load_ext\\', \\'ElasticNotebook\\')', \"get_ipython().run_cell_magic('RecordEvent', '', 'x = 1\\\\n')\"], 'Out': {}, 'get_ipython': <bound method InteractiveShell.get_ipython of <ipykernel.zmqshell.ZMQInteractiveShell object at 0x10771ab50>>, 'exit': <IPython.core.autocall.ZMQExitAutocall object at 0x10772e490>, 'quit': <IPython.core.autocall.ZMQExitAutocall object at 0x10772e490>, '_': '', '__': '', '___': '', '__vsc_ipynb_file__': '/Users/marioaranda/Documents/GitHub/CS511Project/elastic/examples/simple.ipynb', '_i': 'import sys, os, pickle\\nsys.path.insert(0, os.path.abspath(\"../..\"))\\n%load_ext ElasticNotebook', '_ii': '', '_iii': '', '_i1': 'import sys, os, pickle\\nsys.path.insert(0, os.path.abspath(\"../..\"))\\n%load_ext ElasticNotebook', 'sys': <module 'sys' (built-in)>, 'os': <module 'os' from '/Applications/Xcode.app/Contents/Developer/Library/Frameworks/Python3.framework/Versions/3.9/lib/python3.9/os.py'>, 'pickle': <module 'pickle' from '/Applications/Xcode.app/Contents/Developer/Library/Frameworks/Python3.framework/Versions/3.9/lib/python3.9/pickle.py'>, '_i2': '%%RecordEvent\\nx = 1'}\n",
      "---------------------------\n",
      "variables to migrate:\n",
      "---------------------------\n",
      "variables to recompute:\n",
      "x 28\n",
      "['x']\n",
      "---------------------------\n",
      "cells to recompute:\n",
      "0 0.00024390220642089844\n",
      "[1]\n",
      "Checkpoint saved to: checkpoints/enhanced_checkpoint.pickle\n"
     ]
    }
   ],
   "source": [
    "%%RecordEvent\n",
    "x = 1"
   ]
  },
  {
   "cell_type": "code",
   "execution_count": 3,
   "metadata": {
    "collapsed": false,
    "jupyter": {
     "outputs_hidden": false
    },
    "pycharm": {
     "name": "#%%\n"
    },
    "tags": []
   },
   "outputs": [
    {
     "name": "stdout",
     "output_type": "stream",
     "text": [
      "self.shell.user_ns {'__name__': '__main__', '__doc__': 'Automatically created module for IPython interactive environment', '__package__': None, '__loader__': None, '__spec__': None, '__builtin__': <module 'builtins' (built-in)>, '__builtins__': <module 'builtins' (built-in)>, '_ih': ['', 'import sys, os, pickle\\nsys.path.insert(0, os.path.abspath(\"../..\"))\\nget_ipython().run_line_magic(\\'load_ext\\', \\'ElasticNotebook\\')', \"get_ipython().run_cell_magic('RecordEvent', '', 'x = 1\\\\n')\", \"get_ipython().run_cell_magic('RecordEvent', '', 'y = x\\\\nx = x + 1\\\\nz = 1\\\\na = 1\\\\ndel a\\\\na = 2\\\\n')\"], '_oh': {}, '_dh': [PosixPath('/Users/marioaranda/Documents/GitHub/CS511Project/elastic/examples'), PosixPath('/Users/marioaranda/Documents/GitHub/CS511Project/elastic/examples')], 'In': ['', 'import sys, os, pickle\\nsys.path.insert(0, os.path.abspath(\"../..\"))\\nget_ipython().run_line_magic(\\'load_ext\\', \\'ElasticNotebook\\')', \"get_ipython().run_cell_magic('RecordEvent', '', 'x = 1\\\\n')\", \"get_ipython().run_cell_magic('RecordEvent', '', 'y = x\\\\nx = x + 1\\\\nz = 1\\\\na = 1\\\\ndel a\\\\na = 2\\\\n')\"], 'Out': {}, 'get_ipython': <bound method InteractiveShell.get_ipython of <ipykernel.zmqshell.ZMQInteractiveShell object at 0x10771ab50>>, 'exit': <IPython.core.autocall.ZMQExitAutocall object at 0x10772e490>, 'quit': <IPython.core.autocall.ZMQExitAutocall object at 0x10772e490>, '_': '', '__': '', '___': '', '__vsc_ipynb_file__': '/Users/marioaranda/Documents/GitHub/CS511Project/elastic/examples/simple.ipynb', '_i': '%%RecordEvent\\nx = 1', '_ii': 'import sys, os, pickle\\nsys.path.insert(0, os.path.abspath(\"../..\"))\\n%load_ext ElasticNotebook', '_iii': '', '_i1': 'import sys, os, pickle\\nsys.path.insert(0, os.path.abspath(\"../..\"))\\n%load_ext ElasticNotebook', 'sys': <module 'sys' (built-in)>, 'os': <module 'os' from '/Applications/Xcode.app/Contents/Developer/Library/Frameworks/Python3.framework/Versions/3.9/lib/python3.9/os.py'>, 'pickle': <module 'pickle' from '/Applications/Xcode.app/Contents/Developer/Library/Frameworks/Python3.framework/Versions/3.9/lib/python3.9/pickle.py'>, '_i2': '%%RecordEvent\\nx = 1', 'x': 1, '_i3': '%%RecordEvent\\ny = x\\nx = x + 1\\nz = 1\\na = 1\\ndel a\\na = 2'}\n",
      "---------------------------\n",
      "variables to migrate:\n",
      "---------------------------\n",
      "variables to recompute:\n",
      "z 28\n",
      "a 28\n",
      "x 28\n",
      "y 28\n",
      "['z', 'a', 'x', 'y']\n",
      "---------------------------\n",
      "cells to recompute:\n",
      "0 0.00024390220642089844\n",
      "1 0.0005848407745361328\n",
      "[1, 2]\n",
      "Checkpoint saved to: checkpoints/enhanced_checkpoint.pickle\n"
     ]
    }
   ],
   "source": [
    "%%RecordEvent\n",
    "y = x\n",
    "x = x + 1\n",
    "z = 1\n",
    "a = 1\n",
    "del a\n",
    "a = 2"
   ]
  },
  {
   "cell_type": "code",
   "execution_count": 4,
   "metadata": {
    "collapsed": false,
    "jupyter": {
     "outputs_hidden": false
    },
    "pycharm": {
     "name": "#%%\n"
    },
    "tags": []
   },
   "outputs": [
    {
     "name": "stdout",
     "output_type": "stream",
     "text": [
      "self.shell.user_ns {'__name__': '__main__', '__doc__': 'Automatically created module for IPython interactive environment', '__package__': None, '__loader__': None, '__spec__': None, '__builtin__': <module 'builtins' (built-in)>, '__builtins__': <module 'builtins' (built-in)>, '_ih': ['', 'import sys, os, pickle\\nsys.path.insert(0, os.path.abspath(\"../..\"))\\nget_ipython().run_line_magic(\\'load_ext\\', \\'ElasticNotebook\\')', \"get_ipython().run_cell_magic('RecordEvent', '', 'x = 1\\\\n')\", \"get_ipython().run_cell_magic('RecordEvent', '', 'y = x\\\\nx = x + 1\\\\nz = 1\\\\na = 1\\\\ndel a\\\\na = 2\\\\n')\", \"get_ipython().run_cell_magic('RecordEvent', '', '# Record imported libraries\\\\nimport numpy as np\\\\nfrom numpy import random\\\\n')\"], '_oh': {}, '_dh': [PosixPath('/Users/marioaranda/Documents/GitHub/CS511Project/elastic/examples'), PosixPath('/Users/marioaranda/Documents/GitHub/CS511Project/elastic/examples')], 'In': ['', 'import sys, os, pickle\\nsys.path.insert(0, os.path.abspath(\"../..\"))\\nget_ipython().run_line_magic(\\'load_ext\\', \\'ElasticNotebook\\')', \"get_ipython().run_cell_magic('RecordEvent', '', 'x = 1\\\\n')\", \"get_ipython().run_cell_magic('RecordEvent', '', 'y = x\\\\nx = x + 1\\\\nz = 1\\\\na = 1\\\\ndel a\\\\na = 2\\\\n')\", \"get_ipython().run_cell_magic('RecordEvent', '', '# Record imported libraries\\\\nimport numpy as np\\\\nfrom numpy import random\\\\n')\"], 'Out': {}, 'get_ipython': <bound method InteractiveShell.get_ipython of <ipykernel.zmqshell.ZMQInteractiveShell object at 0x10771ab50>>, 'exit': <IPython.core.autocall.ZMQExitAutocall object at 0x10772e490>, 'quit': <IPython.core.autocall.ZMQExitAutocall object at 0x10772e490>, '_': '', '__': '', '___': '', '__vsc_ipynb_file__': '/Users/marioaranda/Documents/GitHub/CS511Project/elastic/examples/simple.ipynb', '_i': '%%RecordEvent\\ny = x\\nx = x + 1\\nz = 1\\na = 1\\ndel a\\na = 2', '_ii': '%%RecordEvent\\nx = 1', '_iii': 'import sys, os, pickle\\nsys.path.insert(0, os.path.abspath(\"../..\"))\\n%load_ext ElasticNotebook', '_i1': 'import sys, os, pickle\\nsys.path.insert(0, os.path.abspath(\"../..\"))\\n%load_ext ElasticNotebook', 'sys': <module 'sys' (built-in)>, 'os': <module 'os' from '/Applications/Xcode.app/Contents/Developer/Library/Frameworks/Python3.framework/Versions/3.9/lib/python3.9/os.py'>, 'pickle': <module 'pickle' from '/Applications/Xcode.app/Contents/Developer/Library/Frameworks/Python3.framework/Versions/3.9/lib/python3.9/pickle.py'>, '_i2': '%%RecordEvent\\nx = 1', 'x': 2, '_i3': '%%RecordEvent\\ny = x\\nx = x + 1\\nz = 1\\na = 1\\ndel a\\na = 2', 'y': 1, 'z': 1, 'a': 2, '_i4': '%%RecordEvent\\n# Record imported libraries\\nimport numpy as np\\nfrom numpy import random'}\n",
      "---------------------------\n",
      "variables to migrate:\n",
      "---------------------------\n",
      "variables to recompute:\n",
      "np 72\n",
      "z 28\n",
      "a 28\n",
      "random 72\n",
      "x 28\n",
      "y 28\n",
      "['np', 'z', 'a', 'random', 'x', 'y']\n",
      "---------------------------\n",
      "cells to recompute:\n",
      "2 0.0002491474151611328\n",
      "0 0.00024390220642089844\n",
      "1 0.0005848407745361328\n",
      "[1, 2, 3]\n",
      "Checkpoint saved to: checkpoints/enhanced_checkpoint.pickle\n"
     ]
    }
   ],
   "source": [
    "%%RecordEvent\n",
    "# Record imported libraries\n",
    "import numpy as np\n",
    "from numpy import random"
   ]
  },
  {
   "cell_type": "code",
   "execution_count": 5,
   "metadata": {
    "collapsed": false,
    "jupyter": {
     "outputs_hidden": false
    },
    "pycharm": {
     "name": "#%%\n"
    }
   },
   "outputs": [
    {
     "name": "stdout",
     "output_type": "stream",
     "text": [
      "self.shell.user_ns {'__name__': '__main__', '__doc__': 'Automatically created module for IPython interactive environment', '__package__': None, '__loader__': None, '__spec__': None, '__builtin__': <module 'builtins' (built-in)>, '__builtins__': <module 'builtins' (built-in)>, '_ih': ['', 'import sys, os, pickle\\nsys.path.insert(0, os.path.abspath(\"../..\"))\\nget_ipython().run_line_magic(\\'load_ext\\', \\'ElasticNotebook\\')', \"get_ipython().run_cell_magic('RecordEvent', '', 'x = 1\\\\n')\", \"get_ipython().run_cell_magic('RecordEvent', '', 'y = x\\\\nx = x + 1\\\\nz = 1\\\\na = 1\\\\ndel a\\\\na = 2\\\\n')\", \"get_ipython().run_cell_magic('RecordEvent', '', '# Record imported libraries\\\\nimport numpy as np\\\\nfrom numpy import random\\\\n')\", \"get_ipython().run_cell_magic('RecordEvent', '', 'b = 1\\\\n')\"], '_oh': {}, '_dh': [PosixPath('/Users/marioaranda/Documents/GitHub/CS511Project/elastic/examples'), PosixPath('/Users/marioaranda/Documents/GitHub/CS511Project/elastic/examples')], 'In': ['', 'import sys, os, pickle\\nsys.path.insert(0, os.path.abspath(\"../..\"))\\nget_ipython().run_line_magic(\\'load_ext\\', \\'ElasticNotebook\\')', \"get_ipython().run_cell_magic('RecordEvent', '', 'x = 1\\\\n')\", \"get_ipython().run_cell_magic('RecordEvent', '', 'y = x\\\\nx = x + 1\\\\nz = 1\\\\na = 1\\\\ndel a\\\\na = 2\\\\n')\", \"get_ipython().run_cell_magic('RecordEvent', '', '# Record imported libraries\\\\nimport numpy as np\\\\nfrom numpy import random\\\\n')\", \"get_ipython().run_cell_magic('RecordEvent', '', 'b = 1\\\\n')\"], 'Out': {}, 'get_ipython': <bound method InteractiveShell.get_ipython of <ipykernel.zmqshell.ZMQInteractiveShell object at 0x10771ab50>>, 'exit': <IPython.core.autocall.ZMQExitAutocall object at 0x10772e490>, 'quit': <IPython.core.autocall.ZMQExitAutocall object at 0x10772e490>, '_': '', '__': '', '___': '', '__vsc_ipynb_file__': '/Users/marioaranda/Documents/GitHub/CS511Project/elastic/examples/simple.ipynb', '_i': '%%RecordEvent\\n# Record imported libraries\\nimport numpy as np\\nfrom numpy import random', '_ii': '%%RecordEvent\\ny = x\\nx = x + 1\\nz = 1\\na = 1\\ndel a\\na = 2', '_iii': '%%RecordEvent\\nx = 1', '_i1': 'import sys, os, pickle\\nsys.path.insert(0, os.path.abspath(\"../..\"))\\n%load_ext ElasticNotebook', 'sys': <module 'sys' (built-in)>, 'os': <module 'os' from '/Applications/Xcode.app/Contents/Developer/Library/Frameworks/Python3.framework/Versions/3.9/lib/python3.9/os.py'>, 'pickle': <module 'pickle' from '/Applications/Xcode.app/Contents/Developer/Library/Frameworks/Python3.framework/Versions/3.9/lib/python3.9/pickle.py'>, '_i2': '%%RecordEvent\\nx = 1', 'x': 2, '_i3': '%%RecordEvent\\ny = x\\nx = x + 1\\nz = 1\\na = 1\\ndel a\\na = 2', 'y': 1, 'z': 1, 'a': 2, '_i4': '%%RecordEvent\\n# Record imported libraries\\nimport numpy as np\\nfrom numpy import random', 'np': <module 'numpy' from '/Users/marioaranda/Documents/GitHub/CS511Project/.env/lib/python3.9/site-packages/numpy/__init__.py'>, 'random': <module 'numpy.random' from '/Users/marioaranda/Documents/GitHub/CS511Project/.env/lib/python3.9/site-packages/numpy/random/__init__.py'>, '_i5': '%%RecordEvent\\nb = 1'}\n",
      "---------------------------\n",
      "variables to migrate:\n",
      "---------------------------\n",
      "variables to recompute:\n",
      "b 28\n",
      "np 72\n",
      "z 28\n",
      "a 28\n",
      "random 72\n",
      "x 28\n",
      "y 28\n",
      "['b', 'np', 'z', 'a', 'random', 'x', 'y']\n",
      "---------------------------\n",
      "cells to recompute:\n",
      "3 0.0002288818359375\n",
      "2 0.0002491474151611328\n",
      "0 0.00024390220642089844\n",
      "1 0.0005848407745361328\n",
      "[1, 2, 3, 4]\n",
      "Checkpoint saved to: checkpoints/enhanced_checkpoint.pickle\n"
     ]
    }
   ],
   "source": [
    "%%RecordEvent\n",
    "b = 1"
   ]
  },
  {
   "cell_type": "code",
   "execution_count": 6,
   "metadata": {
    "collapsed": false,
    "jupyter": {
     "outputs_hidden": false
    },
    "pycharm": {
     "name": "#%%\n"
    }
   },
   "outputs": [
    {
     "name": "stdout",
     "output_type": "stream",
     "text": [
      "self.shell.user_ns {'__name__': '__main__', '__doc__': 'Automatically created module for IPython interactive environment', '__package__': None, '__loader__': None, '__spec__': None, '__builtin__': <module 'builtins' (built-in)>, '__builtins__': <module 'builtins' (built-in)>, '_ih': ['', 'import sys, os, pickle\\nsys.path.insert(0, os.path.abspath(\"../..\"))\\nget_ipython().run_line_magic(\\'load_ext\\', \\'ElasticNotebook\\')', \"get_ipython().run_cell_magic('RecordEvent', '', 'x = 1\\\\n')\", \"get_ipython().run_cell_magic('RecordEvent', '', 'y = x\\\\nx = x + 1\\\\nz = 1\\\\na = 1\\\\ndel a\\\\na = 2\\\\n')\", \"get_ipython().run_cell_magic('RecordEvent', '', '# Record imported libraries\\\\nimport numpy as np\\\\nfrom numpy import random\\\\n')\", \"get_ipython().run_cell_magic('RecordEvent', '', 'b = 1\\\\n')\", \"get_ipython().run_cell_magic('RecordEvent', '', 'def func():\\\\n    global b\\\\n    b += 1\\\\nfunc()\\\\n')\"], '_oh': {}, '_dh': [PosixPath('/Users/marioaranda/Documents/GitHub/CS511Project/elastic/examples'), PosixPath('/Users/marioaranda/Documents/GitHub/CS511Project/elastic/examples')], 'In': ['', 'import sys, os, pickle\\nsys.path.insert(0, os.path.abspath(\"../..\"))\\nget_ipython().run_line_magic(\\'load_ext\\', \\'ElasticNotebook\\')', \"get_ipython().run_cell_magic('RecordEvent', '', 'x = 1\\\\n')\", \"get_ipython().run_cell_magic('RecordEvent', '', 'y = x\\\\nx = x + 1\\\\nz = 1\\\\na = 1\\\\ndel a\\\\na = 2\\\\n')\", \"get_ipython().run_cell_magic('RecordEvent', '', '# Record imported libraries\\\\nimport numpy as np\\\\nfrom numpy import random\\\\n')\", \"get_ipython().run_cell_magic('RecordEvent', '', 'b = 1\\\\n')\", \"get_ipython().run_cell_magic('RecordEvent', '', 'def func():\\\\n    global b\\\\n    b += 1\\\\nfunc()\\\\n')\"], 'Out': {}, 'get_ipython': <bound method InteractiveShell.get_ipython of <ipykernel.zmqshell.ZMQInteractiveShell object at 0x10771ab50>>, 'exit': <IPython.core.autocall.ZMQExitAutocall object at 0x10772e490>, 'quit': <IPython.core.autocall.ZMQExitAutocall object at 0x10772e490>, '_': '', '__': '', '___': '', '__vsc_ipynb_file__': '/Users/marioaranda/Documents/GitHub/CS511Project/elastic/examples/simple.ipynb', '_i': '%%RecordEvent\\nb = 1', '_ii': '%%RecordEvent\\n# Record imported libraries\\nimport numpy as np\\nfrom numpy import random', '_iii': '%%RecordEvent\\ny = x\\nx = x + 1\\nz = 1\\na = 1\\ndel a\\na = 2', '_i1': 'import sys, os, pickle\\nsys.path.insert(0, os.path.abspath(\"../..\"))\\n%load_ext ElasticNotebook', 'sys': <module 'sys' (built-in)>, 'os': <module 'os' from '/Applications/Xcode.app/Contents/Developer/Library/Frameworks/Python3.framework/Versions/3.9/lib/python3.9/os.py'>, 'pickle': <module 'pickle' from '/Applications/Xcode.app/Contents/Developer/Library/Frameworks/Python3.framework/Versions/3.9/lib/python3.9/pickle.py'>, '_i2': '%%RecordEvent\\nx = 1', 'x': 2, '_i3': '%%RecordEvent\\ny = x\\nx = x + 1\\nz = 1\\na = 1\\ndel a\\na = 2', 'y': 1, 'z': 1, 'a': 2, '_i4': '%%RecordEvent\\n# Record imported libraries\\nimport numpy as np\\nfrom numpy import random', 'np': <module 'numpy' from '/Users/marioaranda/Documents/GitHub/CS511Project/.env/lib/python3.9/site-packages/numpy/__init__.py'>, 'random': <module 'numpy.random' from '/Users/marioaranda/Documents/GitHub/CS511Project/.env/lib/python3.9/site-packages/numpy/random/__init__.py'>, '_i5': '%%RecordEvent\\nb = 1', 'b': 1, '_i6': '%%RecordEvent\\ndef func():\\n    global b\\n    b += 1\\nfunc()'}\n",
      "---------------------------\n",
      "variables to migrate:\n",
      "---------------------------\n",
      "variables to recompute:\n",
      "np 72\n",
      "a 28\n",
      "random 72\n",
      "y 28\n",
      "b 28\n",
      "z 28\n",
      "x 28\n",
      "func 136\n",
      "['np', 'a', 'random', 'y', 'b', 'z', 'x', 'func']\n",
      "---------------------------\n",
      "cells to recompute:\n",
      "0 0.00024390220642089844\n",
      "2 0.0002491474151611328\n",
      "3 0.0002288818359375\n",
      "1 0.0005848407745361328\n",
      "4 0.0003330707550048828\n",
      "[1, 2, 3, 4, 5]\n",
      "Checkpoint saved to: checkpoints/enhanced_checkpoint.pickle\n"
     ]
    }
   ],
   "source": [
    "%%RecordEvent\n",
    "def func():\n",
    "    global b\n",
    "    b += 1\n",
    "func()"
   ]
  },
  {
   "cell_type": "code",
   "execution_count": 7,
   "metadata": {
    "collapsed": false,
    "jupyter": {
     "outputs_hidden": false
    },
    "pycharm": {
     "name": "#%%\n"
    },
    "tags": []
   },
   "outputs": [
    {
     "name": "stdout",
     "output_type": "stream",
     "text": [
      "migration speed (bps): 987947618.8664556\n",
      "---------------------------\n",
      "variables to migrate:\n",
      "np 72\n",
      "a 28\n",
      "random 72\n",
      "y 28\n",
      "b 28\n",
      "z 28\n",
      "x 28\n",
      "func 136\n",
      "---------------------------\n",
      "variables to recompute:\n",
      "[]\n",
      "---------------------------\n",
      "cells to recompute:\n",
      "[]\n",
      "Checkpoint saved to: checkpoints/simple.pickle\n"
     ]
    }
   ],
   "source": [
    "%Checkpoint checkpoints/simple.pickle"
   ]
  }
 ],
 "metadata": {
  "kernelspec": {
   "display_name": "Python 3 (ipykernel)",
   "language": "python",
   "name": "python3"
  },
  "language_info": {
   "codemirror_mode": {
    "name": "ipython",
    "version": 3
   },
   "file_extension": ".py",
   "mimetype": "text/x-python",
   "name": "python",
   "nbconvert_exporter": "python",
   "pygments_lexer": "ipython3",
   "version": "3.9.6"
  },
  "vscode": {
   "interpreter": {
    "hash": "831878006862ccc20c8644a68163e333be809b5fee14b33e0a32c4838e696fe8"
   }
  }
 },
 "nbformat": 4,
 "nbformat_minor": 4
}
